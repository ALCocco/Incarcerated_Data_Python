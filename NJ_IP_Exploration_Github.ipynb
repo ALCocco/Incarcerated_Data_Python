{
 "cells": [
  {
   "cell_type": "markdown",
   "metadata": {},
   "source": [
    "# NJ Incarcerated Census Exploration with Python"
   ]
  },
  {
   "cell_type": "markdown",
   "metadata": {},
   "source": [
    "### Step 1: Installing the Necessary Libraries"
   ]
  },
  {
   "cell_type": "code",
   "execution_count": null,
   "metadata": {},
   "outputs": [],
   "source": [
    "%pip install mysql-connector-python\n",
    "%pip install matplotlib\n",
    "%pip install pandas"
   ]
  },
  {
   "cell_type": "code",
   "execution_count": 1,
   "metadata": {},
   "outputs": [],
   "source": [
    "import mysql.connector\n",
    "import pandas as pd\n",
    "import matplotlib.pyplot as mp\n",
    "import csv"
   ]
  },
  {
   "cell_type": "markdown",
   "metadata": {},
   "source": [
    "### Step 2: Connecting to the SQL Database and Querying the Data\n",
    "**2.1:** In this section, I originally imported the dataset into my own SQL database and queried the data from this notebook. I have kept but commented out the original code for this process and instead directly imported the csv file using read_csv. This will allow you to easily test the python code yourself without needing to create your own SQL database."
   ]
  },
  {
   "cell_type": "code",
   "execution_count": 56,
   "metadata": {},
   "outputs": [],
   "source": [
    "#cnx = mysql.connector.connect(user='root', \n",
    "#                                password='******', \n",
    "#                                host='******', \n",
    "#                                database='database1',)\n",
    "\n",
    "#cursor = cnx.cursor()"
   ]
  },
  {
   "cell_type": "code",
   "execution_count": 57,
   "metadata": {},
   "outputs": [],
   "source": [
    "#query  = (\"SELECT * FROM database1.nj_ip_census\")\n",
    "#cursor.execute(query)"
   ]
  },
  {
   "cell_type": "code",
   "execution_count": 58,
   "metadata": {},
   "outputs": [],
   "source": [
    "#response = cursor.fetchall()"
   ]
  },
  {
   "cell_type": "code",
   "execution_count": 2,
   "metadata": {},
   "outputs": [],
   "source": [
    "response = pd.read_csv('NJDOC_Incarcerated_Persons_Census_20240513.csv')"
   ]
  },
  {
   "cell_type": "markdown",
   "metadata": {},
   "source": [
    "### Step 3: Importing the Data into the Notebook\n",
    "**3.1:** The csv data is fed into a pandas dataframe titled \"df1\". Column titles were shortened and spaces were replaced with underscores."
   ]
  },
  {
   "cell_type": "code",
   "execution_count": null,
   "metadata": {},
   "outputs": [],
   "source": [
    "df1 = pd.DataFrame(response)\n",
    "df1.columns = [\"ID_Number\",\"Term_at_Admission\",\"Total_Max_Term\",\"Gender\",\"County_of_Admission\",\"Ethnicity\",\"Age\"]\n",
    "\n",
    "print(\"In total, there were \", df1.shape[0], \"Incarcerated persons (IPs) in New Jersey state prisons during 2023.\")\n",
    "\n",
    "df1.head(10)"
   ]
  },
  {
   "cell_type": "markdown",
   "metadata": {},
   "source": [
    "### Step 4: Analyzing the Age Distribution\n",
    "**4.1:** Incarcerated persons were categorized into the histogram below based on their age. The resulting graph demonstrates a right skewed distribution in which younger individuals between the ages 30 and 40 are the majority age group in the census. With the 20 to 30 group containing the second highest number of individuals."
   ]
  },
  {
   "cell_type": "code",
   "execution_count": null,
   "metadata": {},
   "outputs": [],
   "source": [
    "bins = [10,20,30,40,50,60,70,80,90]\n",
    "\n",
    "mp.style.use('ggplot')\n",
    "mp.hist(df1[\"Age\"], bins=bins, edgecolor='black', color='blue')\n",
    "\n",
    "mp.xlabel('Age')\n",
    "mp.ylabel('Frequency')\n",
    "mp.title('Age of Incarcerated Persons')"
   ]
  },
  {
   "cell_type": "markdown",
   "metadata": {},
   "source": [
    "**4.2:** Calculating the median age."
   ]
  },
  {
   "cell_type": "code",
   "execution_count": null,
   "metadata": {},
   "outputs": [],
   "source": [
    "print(\"The median age in this dataset is\", df1[\"Age\"].median())"
   ]
  },
  {
   "cell_type": "markdown",
   "metadata": {},
   "source": [
    "**4.3:** To further explore the age distribution, the following code uses a custom function to create a new variable named \"Elderly_Status\". If an individual is aged at or above 65 the attribute \"Elderly\" is added to their record. A new dataframe was created for this process to avoid makeing unwanted changes to the master data source."
   ]
  },
  {
   "cell_type": "code",
   "execution_count": 26,
   "metadata": {},
   "outputs": [],
   "source": [
    "df_age = pd.DataFrame(df1[[\"ID_Number\", \"Age\"]])\n",
    "\n",
    "def add_column(row):\n",
    "    if row[\"Age\"] >= 65: cat = \"Elderly\"\n",
    "    else: cat = \"Not_Elderly\"\n",
    "    return cat\n",
    "\n",
    "df_age[\"Elderly_Status\"] = df_age.apply(add_column, axis = 1)"
   ]
  },
  {
   "cell_type": "markdown",
   "metadata": {},
   "source": [
    "**4.4:** By calculating the percentage of individuals in both categories, it becomes clear that only 3.5 percent are elderly."
   ]
  },
  {
   "cell_type": "code",
   "execution_count": null,
   "metadata": {},
   "outputs": [],
   "source": [
    "print(sum(df_age['Elderly_Status'] == 'Elderly') / df_age.shape[0] * 100)\n",
    "print(sum(df_age['Elderly_Status'] == 'Not_Elderly') / df_age.shape[0] * 100)"
   ]
  },
  {
   "cell_type": "markdown",
   "metadata": {},
   "source": [
    "**4.5:** The percentages were fed into a pie chart to visualize the difference between the number of elderly and non-elderly individuals. Percentages, colors, and data labels were made into their own lists and used as the parameters in the \"mp.pie\" function."
   ]
  },
  {
   "cell_type": "code",
   "execution_count": null,
   "metadata": {},
   "outputs": [],
   "source": [
    "\n",
    "labels = ['Elderly\\n3.5%', 'Not Elderly\\n96.5%']\n",
    "colors = ['#3e4dfa', '#7ffa3e']\n",
    "sizes = [3.5, 96.5]\n",
    "\n",
    "mp.pie(sizes, labels=labels, colors=colors, shadow=True)\n",
    "\n",
    "mp.title('Elderly Status of Incarcerated Persons')\n",
    "mp.legend(title='Legend', loc='center right', bbox_to_anchor=(1, 0, 0.5, 1))"
   ]
  },
  {
   "cell_type": "markdown",
   "metadata": {},
   "source": [
    "### Step 5: Exploring and Recoding Ethnicity Data"
   ]
  },
  {
   "cell_type": "markdown",
   "metadata": {},
   "source": [
    "**5.1:** Finding the total number of incarcerated individuals for each ethnic group."
   ]
  },
  {
   "cell_type": "code",
   "execution_count": null,
   "metadata": {},
   "outputs": [],
   "source": [
    "df1[\"Ethnicity\"].value_counts()"
   ]
  },
  {
   "cell_type": "markdown",
   "metadata": {},
   "source": [
    "**5.2:** Calculating the total percentages for the top three groups."
   ]
  },
  {
   "cell_type": "code",
   "execution_count": null,
   "metadata": {},
   "outputs": [],
   "source": [
    "print(sum(df1['Ethnicity'] == 'BL') / df1.shape[0] * 100)\n",
    "print(sum(df1['Ethnicity'] == 'WH') / df1.shape[0] * 100)\n",
    "print(sum(df1['Ethnicity'] == 'HS') / df1.shape[0] * 100)\n",
    "print(sum(df1['Ethnicity'] == 'OI') / df1.shape[0] * 100)"
   ]
  },
  {
   "cell_type": "markdown",
   "metadata": {},
   "source": [
    "**5.3:** The following bar graph displays the number of individuals within each ethnic group represented in the census. In order to clearly communicate what each abbreviation represents; another custom function was developed to recode the labels to their full titles.  "
   ]
  },
  {
   "cell_type": "code",
   "execution_count": null,
   "metadata": {},
   "outputs": [],
   "source": [
    "df1[\"Ethnicity\"].value_counts().plot(kind='bar', xlabel='Ethnicity', ylabel='Frequency')"
   ]
  },
  {
   "cell_type": "markdown",
   "metadata": {},
   "source": [
    "**5.4:** A new dataframe was created for this process. The output displays the new labels for each ethnic group along with the number of individuals belonging to each of them."
   ]
  },
  {
   "cell_type": "code",
   "execution_count": null,
   "metadata": {},
   "outputs": [],
   "source": [
    "df_eth = pd.DataFrame(df1[[\"ID_Number\", \"Ethnicity\"]])\n",
    "\n",
    "def add_column_eth(row):\n",
    "    if row[\"Ethnicity\"] == 'BL': cat = \"Black\"\n",
    "    elif row[\"Ethnicity\"] == 'WH': cat = \"White\"\n",
    "    elif row[\"Ethnicity\"] == 'HS': cat = \"Hispanic\"\n",
    "    elif row[\"Ethnicity\"] == 'OA': cat = \"Asian\"\n",
    "    elif row[\"Ethnicity\"] == 'HW': cat = \"Hawaiian/Pacific Islander\"\n",
    "    elif row[\"Ethnicity\"] == 'HB': cat = \"Black Hispanic\"\n",
    "    elif row[\"Ethnicity\"] == 'OI': cat = \"American Indian\"\n",
    "    return cat\n",
    "\n",
    "df_eth[\"Ethnicity\"] = df_eth.apply(add_column_eth, axis = 1)\n",
    "df_eth[\"Ethnicity\"].value_counts()"
   ]
  },
  {
   "cell_type": "markdown",
   "metadata": {},
   "source": [
    "### Step 6: Total Arrests by County\n",
    "**6.1:** Another avenue to explore was the number of incarcerated individuals differed depending on their county of admission. A third dataframe was created and used to count the number of entries corresponding to each county."
   ]
  },
  {
   "cell_type": "code",
   "execution_count": null,
   "metadata": {},
   "outputs": [],
   "source": [
    "df_county = pd.DataFrame(df1[[\"ID_Number\", \"County_of_Admission\", \"Term_at_Admission\", \"Total_Max_Term\"]])\n",
    "print(df_county['County_of_Admission'].value_counts())"
   ]
  },
  {
   "cell_type": "markdown",
   "metadata": {},
   "source": [
    "**6.2:** One possible avenue is to explore is how prison term at admission differed between each county. To answer this question, the table below was created to crosstab the county of admission variable and term at admission variable. Further below is a table that converts the raw numbers into percentages of the total arrests in that county."
   ]
  },
  {
   "cell_type": "code",
   "execution_count": null,
   "metadata": {},
   "outputs": [],
   "source": [
    "pd.crosstab(df_county[\"County_of_Admission\"], df_county[\"Term_at_Admission\"], margins=True)"
   ]
  },
  {
   "cell_type": "markdown",
   "metadata": {},
   "source": [
    "### Step 7: Closing the SQL Database Connection (Optional)"
   ]
  },
  {
   "cell_type": "code",
   "execution_count": null,
   "metadata": {},
   "outputs": [],
   "source": [
    "#cnx.close()\n",
    "#cursor.close()"
   ]
  }
 ],
 "metadata": {
  "kernelspec": {
   "display_name": "pythoon",
   "language": "python",
   "name": "python3"
  },
  "language_info": {
   "codemirror_mode": {
    "name": "ipython",
    "version": 3
   },
   "file_extension": ".py",
   "mimetype": "text/x-python",
   "name": "python",
   "nbconvert_exporter": "python",
   "pygments_lexer": "ipython3",
   "version": "3.10.12"
  }
 },
 "nbformat": 4,
 "nbformat_minor": 2
}
